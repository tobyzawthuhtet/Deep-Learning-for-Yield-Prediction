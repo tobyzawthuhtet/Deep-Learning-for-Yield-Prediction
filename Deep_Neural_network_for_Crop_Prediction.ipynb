{
  "nbformat": 4,
  "nbformat_minor": 0,
  "metadata": {
    "colab": {
      "name": "Deep Neural network for Crop Prediction.ipynb",
      "provenance": [],
      "collapsed_sections": []
    },
    "kernelspec": {
      "name": "python3",
      "display_name": "Python 3"
    }
  },
  "cells": [
    {
      "cell_type": "markdown",
      "metadata": {
        "id": "2Vvs6hKKsE5J"
      },
      "source": [
        "### ***Importing Mendatory Libraries***\n",
        "\n"
      ]
    },
    {
      "cell_type": "code",
      "metadata": {
        "id": "laPx8bJTU55E"
      },
      "source": [
        "import tensorflow as tf\n",
        "import numpy as np\n",
        "import pandas as pd\n",
        "from tensorflow import keras\n",
        "\n",
        "from tensorflow.keras.layers import Dense\n",
        "from tensorflow.keras.models import Sequential\n",
        "from sklearn.model_selection import train_test_split\n",
        "import matplotlib.pyplot as plt"
      ],
      "execution_count": null,
      "outputs": []
    },
    {
      "cell_type": "markdown",
      "metadata": {
        "id": "DSYZVLLIsOZk"
      },
      "source": [
        "Reading CSV data \n"
      ]
    },
    {
      "cell_type": "code",
      "metadata": {
        "colab": {
          "base_uri": "https://localhost:8080/",
          "height": 197
        },
        "id": "8TOvlkqwlGPM",
        "outputId": "81ce5bc4-98d9-40b9-a78d-09b1770ee7fa"
      },
      "source": [
        "df1 = pd.read_csv('/content/sample_data/tf_data.csv')\n",
        "df = pd.read_csv('/content/sample_data/rastervalue_ANN.csv')\n",
        "df1.head()"
      ],
      "execution_count": null,
      "outputs": [
        {
          "output_type": "execute_result",
          "data": {
            "text/html": [
              "<div>\n",
              "<style scoped>\n",
              "    .dataframe tbody tr th:only-of-type {\n",
              "        vertical-align: middle;\n",
              "    }\n",
              "\n",
              "    .dataframe tbody tr th {\n",
              "        vertical-align: top;\n",
              "    }\n",
              "\n",
              "    .dataframe thead th {\n",
              "        text-align: right;\n",
              "    }\n",
              "</style>\n",
              "<table border=\"1\" class=\"dataframe\">\n",
              "  <thead>\n",
              "    <tr style=\"text-align: right;\">\n",
              "      <th></th>\n",
              "      <th>State_Name</th>\n",
              "      <th>District_Name</th>\n",
              "      <th>Crop_Year</th>\n",
              "      <th>Season</th>\n",
              "      <th>Crop</th>\n",
              "      <th>Area</th>\n",
              "      <th>Production</th>\n",
              "    </tr>\n",
              "  </thead>\n",
              "  <tbody>\n",
              "    <tr>\n",
              "      <th>0</th>\n",
              "      <td>Assam</td>\n",
              "      <td>BAKSA</td>\n",
              "      <td>2011</td>\n",
              "      <td>Autumn</td>\n",
              "      <td>Paddy</td>\n",
              "      <td>10325</td>\n",
              "      <td>14340</td>\n",
              "    </tr>\n",
              "    <tr>\n",
              "      <th>1</th>\n",
              "      <td>Assam</td>\n",
              "      <td>BAKSA</td>\n",
              "      <td>2011</td>\n",
              "      <td>Summer</td>\n",
              "      <td>Paddy</td>\n",
              "      <td>2500</td>\n",
              "      <td>5595</td>\n",
              "    </tr>\n",
              "    <tr>\n",
              "      <th>2</th>\n",
              "      <td>Assam</td>\n",
              "      <td>BAKSA</td>\n",
              "      <td>2011</td>\n",
              "      <td>Winter</td>\n",
              "      <td>Paddy</td>\n",
              "      <td>85450</td>\n",
              "      <td>153149</td>\n",
              "    </tr>\n",
              "    <tr>\n",
              "      <th>3</th>\n",
              "      <td>Assam</td>\n",
              "      <td>BAKSA</td>\n",
              "      <td>2012</td>\n",
              "      <td>Autumn</td>\n",
              "      <td>Paddy</td>\n",
              "      <td>11780</td>\n",
              "      <td>16636</td>\n",
              "    </tr>\n",
              "    <tr>\n",
              "      <th>4</th>\n",
              "      <td>Assam</td>\n",
              "      <td>BAKSA</td>\n",
              "      <td>2012</td>\n",
              "      <td>Winter</td>\n",
              "      <td>Paddy</td>\n",
              "      <td>85485</td>\n",
              "      <td>157009</td>\n",
              "    </tr>\n",
              "  </tbody>\n",
              "</table>\n",
              "</div>"
            ],
            "text/plain": [
              "  State_Name District_Name  Crop_Year       Season   Crop   Area  Production\n",
              "0      Assam         BAKSA       2011  Autumn       Paddy  10325       14340\n",
              "1      Assam         BAKSA       2011  Summer       Paddy   2500        5595\n",
              "2      Assam         BAKSA       2011  Winter       Paddy  85450      153149\n",
              "3      Assam         BAKSA       2012  Autumn       Paddy  11780       16636\n",
              "4      Assam         BAKSA       2012  Winter       Paddy  85485      157009"
            ]
          },
          "metadata": {
            "tags": []
          },
          "execution_count": 471
        }
      ]
    },
    {
      "cell_type": "markdown",
      "metadata": {
        "id": "JyJsMeVvsTf-"
      },
      "source": [
        "Assigning data using Pandas Library"
      ]
    },
    {
      "cell_type": "code",
      "metadata": {
        "id": "LeuAPULilkv_"
      },
      "source": [
        "Area = df1[['Area']].values\n",
        "Production= df1[['Production']].values\n",
        "dataframe= df1[['Area','Production']]\n",
        "#train, test = train_test_split(dataframe,test_size=0.25,shuffle =True)\n",
        "#train , val = train_test_split(train, test_size = 0.2)\n",
        "#Area= train['Area'].values\n",
        "#Production=train['Production'].values\n",
        "#val\n"
      ],
      "execution_count": null,
      "outputs": []
    },
    {
      "cell_type": "markdown",
      "metadata": {
        "id": "IbdG5GlwsZQS"
      },
      "source": [
        "Creating library for better data input pipeline\n"
      ]
    },
    {
      "cell_type": "code",
      "metadata": {
        "id": "ZsMYZLmnlGcn"
      },
      "source": [
        "\n",
        "def inputdataset (bs , nd , area):\n",
        "  \"\"\"\n",
        "  Input backscatter value in Bs\n",
        "  Input Ndvi value for nd\n",
        "  Input area value for area\n",
        "  \"\"\"\n",
        " # bs = float(input(\"enter any backscatter value\"))\n",
        " #nd = float(input(\"enter any ndvi value\"))\n",
        "  #area = float(input(\"enter any area value\"))\n",
        "  ds = list()\n",
        "  ds.append(bs)\n",
        "  ds.append(nd)\n",
        "  ds.append(area)\n",
        "  ds= np.array(ds)\n",
        "  ds=ds.reshape(1,3)\n",
        "  return ds\n"
      ],
      "execution_count": null,
      "outputs": []
    },
    {
      "cell_type": "markdown",
      "metadata": {
        "id": "plKYmw-9sgjE"
      },
      "source": [
        "Model Creation"
      ]
    },
    {
      "cell_type": "code",
      "metadata": {
        "colab": {
          "base_uri": "https://localhost:8080/"
        },
        "id": "WbKPVM8ch53k",
        "outputId": "d76b923e-20c1-46da-e43a-e1411e3c935a"
      },
      "source": [
        "model1 = Sequential( [\n",
        "                     Dense(64,input_shape=(1,),activation='relu'),\n",
        "                     Dense(128,activation='relu'),\n",
        "                     Dense(64, activation='relu'),\n",
        "                     Dense(8, activation='relu'),\n",
        "                     Dense(1,activation='linear')\n",
        "]\n",
        ")\n",
        "model1.summary()\n",
        "opt = tf.keras.optimizers.Adam(learning_rate=0.0009)\n",
        "model1.compile(opt, loss= 'mse',metrics=['mse','mae'])"
      ],
      "execution_count": null,
      "outputs": [
        {
          "output_type": "stream",
          "text": [
            "Model: \"sequential_90\"\n",
            "_________________________________________________________________\n",
            "Layer (type)                 Output Shape              Param #   \n",
            "=================================================================\n",
            "dense_258 (Dense)            (None, 64)                128       \n",
            "_________________________________________________________________\n",
            "dense_259 (Dense)            (None, 128)               8320      \n",
            "_________________________________________________________________\n",
            "dense_260 (Dense)            (None, 64)                8256      \n",
            "_________________________________________________________________\n",
            "dense_261 (Dense)            (None, 8)                 520       \n",
            "_________________________________________________________________\n",
            "dense_262 (Dense)            (None, 1)                 9         \n",
            "=================================================================\n",
            "Total params: 17,233\n",
            "Trainable params: 17,233\n",
            "Non-trainable params: 0\n",
            "_________________________________________________________________\n"
          ],
          "name": "stdout"
        }
      ]
    },
    {
      "cell_type": "markdown",
      "metadata": {
        "id": "9XZUyeXFskPB"
      },
      "source": [
        "### ***Model fitting and visualization of regression line***"
      ]
    },
    {
      "cell_type": "code",
      "metadata": {
        "id": "ACJcPzI_IUb5"
      },
      "source": [
        "history = model1.fit(Area,Production , epochs=200, batch_size=10, verbose=1, validation_split=0.2)\n",
        "df1.plot(kind='scatter',\n",
        "       x='Area',\n",
        "       y='Production', title='Crop Predicton')\n",
        "\n",
        "\n",
        "y_pred = model1.predict(Area) #The predicted production based on area\n",
        "\n",
        "#Plot the linear regression line\n",
        "plt.plot(Area, y_pred, color='red')\n"
      ],
      "execution_count": null,
      "outputs": []
    },
    {
      "cell_type": "markdown",
      "metadata": {
        "id": "UqFpR76lszu8"
      },
      "source": [
        "# ***Accuracy Assessment and loss assessment***"
      ]
    },
    {
      "cell_type": "code",
      "metadata": {
        "colab": {
          "base_uri": "https://localhost:8080/",
          "height": 311
        },
        "id": "qWIHQXkyLHnM",
        "outputId": "8de2bbfb-dfbe-447e-cd66-5140bacff0c8"
      },
      "source": [
        "print(history.history.keys())\n",
        "# \"Loss\"\n",
        "plt.plot(history.history['loss'])\n",
        "plt.plot(history.history['val_loss'])\n",
        "plt.title('model loss')\n",
        "plt.ylabel('loss')\n",
        "plt.xlabel('epoch')\n",
        "plt.legend(['train', 'validation'], loc='upper left')\n",
        "plt.show()"
      ],
      "execution_count": null,
      "outputs": [
        {
          "output_type": "stream",
          "text": [
            "dict_keys(['loss', 'mse', 'mae', 'val_loss', 'val_mse', 'val_mae'])\n"
          ],
          "name": "stdout"
        },
        {
          "output_type": "display_data",
          "data": {
            "image/png": "[encoded data removed]",
            "text/plain": [
              "<Figure size 432x288 with 1 Axes>"
            ]
          },
          "metadata": {
            "tags": [],
            "needs_background": "light"
          }
        }
      ]
    },
    {
      "cell_type": "markdown",
      "metadata": {
        "id": "KOQjCBpRs-iF"
      },
      "source": [
        "# Prediction using Sample **data** "
      ]
    },
    {
      "cell_type": "code",
      "metadata": {
        "colab": {
          "base_uri": "https://localhost:8080/"
        },
        "id": "X84ORZo7n2wW",
        "outputId": "4d8a2a77-1dd6-4bc4-d65f-705ed3ad6196"
      },
      "source": [
        "print( \"Production {} units:\" .format(model.predict([float(input('enter your area '))])))"
      ],
      "execution_count": null,
      "outputs": [
        {
          "output_type": "stream",
          "text": [
            "enter your area 5993.486648\n",
            "Production [[10098.706]] units:\n"
          ],
          "name": "stdout"
        }
      ]
    },
    {
      "cell_type": "code",
      "metadata": {
        "colab": {
          "base_uri": "https://localhost:8080/",
          "height": 197
        },
        "id": "yoMvK7B5o-x1",
        "outputId": "2d8eb921-5aec-4346-e999-1e7a3256cce1"
      },
      "source": [
        "df.head()"
      ],
      "execution_count": null,
      "outputs": [
        {
          "output_type": "execute_result",
          "data": {
            "text/html": [
              "<div>\n",
              "<style scoped>\n",
              "    .dataframe tbody tr th:only-of-type {\n",
              "        vertical-align: middle;\n",
              "    }\n",
              "\n",
              "    .dataframe tbody tr th {\n",
              "        vertical-align: top;\n",
              "    }\n",
              "\n",
              "    .dataframe thead th {\n",
              "        text-align: right;\n",
              "    }\n",
              "</style>\n",
              "<table border=\"1\" class=\"dataframe\">\n",
              "  <thead>\n",
              "    <tr style=\"text-align: right;\">\n",
              "      <th></th>\n",
              "      <th>Yield_kg_</th>\n",
              "      <th>Back Scatter</th>\n",
              "      <th>NDVI</th>\n",
              "      <th>Area</th>\n",
              "    </tr>\n",
              "  </thead>\n",
              "  <tbody>\n",
              "    <tr>\n",
              "      <th>0</th>\n",
              "      <td>170</td>\n",
              "      <td>-8.85088</td>\n",
              "      <td>0.559350</td>\n",
              "      <td>5993.486648</td>\n",
              "    </tr>\n",
              "    <tr>\n",
              "      <th>1</th>\n",
              "      <td>100</td>\n",
              "      <td>-13.24120</td>\n",
              "      <td>0.313923</td>\n",
              "      <td>6234.321452</td>\n",
              "    </tr>\n",
              "    <tr>\n",
              "      <th>2</th>\n",
              "      <td>170</td>\n",
              "      <td>-7.58420</td>\n",
              "      <td>0.797050</td>\n",
              "      <td>6029.639943</td>\n",
              "    </tr>\n",
              "    <tr>\n",
              "      <th>3</th>\n",
              "      <td>40</td>\n",
              "      <td>-9.17053</td>\n",
              "      <td>0.785093</td>\n",
              "      <td>1757.187183</td>\n",
              "    </tr>\n",
              "    <tr>\n",
              "      <th>4</th>\n",
              "      <td>55</td>\n",
              "      <td>-9.13041</td>\n",
              "      <td>0.787306</td>\n",
              "      <td>2983.031785</td>\n",
              "    </tr>\n",
              "  </tbody>\n",
              "</table>\n",
              "</div>"
            ],
            "text/plain": [
              "   Yield_kg_  Back Scatter      NDVI         Area\n",
              "0        170      -8.85088  0.559350  5993.486648\n",
              "1        100     -13.24120  0.313923  6234.321452\n",
              "2        170      -7.58420  0.797050  6029.639943\n",
              "3         40      -9.17053  0.785093  1757.187183\n",
              "4         55      -9.13041  0.787306  2983.031785"
            ]
          },
          "metadata": {
            "tags": []
          },
          "execution_count": 382
        }
      ]
    },
    {
      "cell_type": "markdown",
      "metadata": {
        "id": "N611ETyatYli"
      },
      "source": [
        "### Creation of new dataframe using pandas"
      ]
    },
    {
      "cell_type": "code",
      "metadata": {
        "id": "_IECf3QTzo_Z"
      },
      "source": [
        "X= df.drop(columns=['Yield_kg_'])\n",
        "Y = df[['Yield_kg_']]"
      ],
      "execution_count": null,
      "outputs": []
    },
    {
      "cell_type": "markdown",
      "metadata": {
        "id": "nZqqiIIlteex"
      },
      "source": [
        "**Creation of new model**"
      ]
    },
    {
      "cell_type": "code",
      "metadata": {
        "id": "EtTVkoIq0CW6"
      },
      "source": [
        "model = Sequential( [\n",
        "                     Dense(64,activation=tf.nn.relu,input_shape=(3,)),\n",
        "                     Dense(128,activation=tf.nn.relu),\n",
        "                     Dense(64, activation='relu'),\n",
        "                    Dense(1,activation='linear')\n",
        "]\n",
        ")\n",
        "opt = tf.keras.optimizers.Adam(learning_rate=0.001)\n",
        "model.compile(opt, loss= 'mean_squared_error', metrics=['mse','mae'])"
      ],
      "execution_count": null,
      "outputs": []
    },
    {
      "cell_type": "markdown",
      "metadata": {
        "id": "amHHjp_0tk_S"
      },
      "source": [
        "Model Fitting"
      ]
    },
    {
      "cell_type": "code",
      "metadata": {
        "id": "mmgLfRE10W-t"
      },
      "source": [
        "history2 =model.fit(X,Y,epochs=1000,validation_split= 0.1)\n",
        "print(history2.history.keys())\n",
        "# \"Loss\"\n",
        "plt.plot(history2.history['loss'])\n",
        "plt.plot(history2.history['val_loss'])\n",
        "plt.title('model loss')\n",
        "plt.ylabel('loss')\n",
        "plt.xlabel('epoch')\n",
        "plt.legend(['train', 'validation'], loc='upper left')\n",
        "plt.show()"
      ],
      "execution_count": null,
      "outputs": []
    },
    {
      "cell_type": "code",
      "metadata": {
        "id": "L7diwCpE0llU",
        "colab": {
          "base_uri": "https://localhost:8080/",
          "height": 197
        },
        "outputId": "b98bf0de-b48b-49f7-a622-405b33b455b0"
      },
      "source": [
        "df.head()"
      ],
      "execution_count": null,
      "outputs": [
        {
          "output_type": "execute_result",
          "data": {
            "text/html": [
              "<div>\n",
              "<style scoped>\n",
              "    .dataframe tbody tr th:only-of-type {\n",
              "        vertical-align: middle;\n",
              "    }\n",
              "\n",
              "    .dataframe tbody tr th {\n",
              "        vertical-align: top;\n",
              "    }\n",
              "\n",
              "    .dataframe thead th {\n",
              "        text-align: right;\n",
              "    }\n",
              "</style>\n",
              "<table border=\"1\" class=\"dataframe\">\n",
              "  <thead>\n",
              "    <tr style=\"text-align: right;\">\n",
              "      <th></th>\n",
              "      <th>Yield_kg_</th>\n",
              "      <th>Back Scatter</th>\n",
              "      <th>NDVI</th>\n",
              "      <th>Area</th>\n",
              "    </tr>\n",
              "  </thead>\n",
              "  <tbody>\n",
              "    <tr>\n",
              "      <th>0</th>\n",
              "      <td>170</td>\n",
              "      <td>-8.85088</td>\n",
              "      <td>0.559350</td>\n",
              "      <td>5993.486648</td>\n",
              "    </tr>\n",
              "    <tr>\n",
              "      <th>1</th>\n",
              "      <td>100</td>\n",
              "      <td>-13.24120</td>\n",
              "      <td>0.313923</td>\n",
              "      <td>6234.321452</td>\n",
              "    </tr>\n",
              "    <tr>\n",
              "      <th>2</th>\n",
              "      <td>170</td>\n",
              "      <td>-7.58420</td>\n",
              "      <td>0.797050</td>\n",
              "      <td>6029.639943</td>\n",
              "    </tr>\n",
              "    <tr>\n",
              "      <th>3</th>\n",
              "      <td>40</td>\n",
              "      <td>-9.17053</td>\n",
              "      <td>0.785093</td>\n",
              "      <td>1757.187183</td>\n",
              "    </tr>\n",
              "    <tr>\n",
              "      <th>4</th>\n",
              "      <td>55</td>\n",
              "      <td>-9.13041</td>\n",
              "      <td>0.787306</td>\n",
              "      <td>2983.031785</td>\n",
              "    </tr>\n",
              "  </tbody>\n",
              "</table>\n",
              "</div>"
            ],
            "text/plain": [
              "   Yield_kg_  Back Scatter      NDVI         Area\n",
              "0        170      -8.85088  0.559350  5993.486648\n",
              "1        100     -13.24120  0.313923  6234.321452\n",
              "2        170      -7.58420  0.797050  6029.639943\n",
              "3         40      -9.17053  0.785093  1757.187183\n",
              "4         55      -9.13041  0.787306  2983.031785"
            ]
          },
          "metadata": {
            "tags": []
          },
          "execution_count": 492
        }
      ]
    },
    {
      "cell_type": "markdown",
      "metadata": {
        "id": "oJjaGpGGt27Q"
      },
      "source": [
        "Data Prediction"
      ]
    },
    {
      "cell_type": "code",
      "metadata": {
        "colab": {
          "base_uri": "https://localhost:8080/"
        },
        "id": "V8-4MJjDbmdr",
        "outputId": "2c37a5c2-9bec-43b1-d964-8bdd19575887"
      },
      "source": [
        "data = inputdataset(-9.13041\t,0.787306\t,2983.031785)\n",
        "#test_data = np.array([-9.13041\t,0.787306\t,2983.031785])\n",
        "#test_data = test_data.reshape(1,3)\n",
        "print(\"Yield kg :\",model.predict(data, batch_size=1))"
      ],
      "execution_count": null,
      "outputs": [
        {
          "output_type": "stream",
          "text": [
            "Yield kg : [[60.01322]]\n"
          ],
          "name": "stdout"
        }
      ]
    },
    {
      "cell_type": "markdown",
      "metadata": {
        "id": "0qOJ2D9Et5FR"
      },
      "source": [
        "Saving a model"
      ]
    },
    {
      "cell_type": "code",
      "metadata": {
        "id": "KGPf4VgwgrLz"
      },
      "source": [
        "model.save('crop_prediction_model.h5')"
      ],
      "execution_count": null,
      "outputs": []
    },
    {
      "cell_type": "markdown",
      "metadata": {
        "id": "PHm-Md11t60Z"
      },
      "source": [
        "Loading a model"
      ]
    },
    {
      "cell_type": "code",
      "metadata": {
        "id": "dKQAYaRUkxlE"
      },
      "source": [
        "old_model = keras.models.load_model('crop_prediction_model.h5')"
      ],
      "execution_count": null,
      "outputs": []
    },
    {
      "cell_type": "code",
      "metadata": {
        "colab": {
          "base_uri": "https://localhost:8080/"
        },
        "id": "l6UKxdkOk_y4",
        "outputId": "3c43904d-d0eb-478e-bcce-18c81e2588e6"
      },
      "source": [
        "old_model.predict(data)"
      ],
      "execution_count": null,
      "outputs": [
        {
          "output_type": "execute_result",
          "data": {
            "text/plain": [
              "array([[8.391899]], dtype=float32)"
            ]
          },
          "metadata": {
            "tags": []
          },
          "execution_count": 551
        }
      ]
    }
  ]
}